{
 "cells": [
  {
   "cell_type": "code",
   "execution_count": 1,
   "metadata": {
    "id": "87T5BetZQYQv"
   },
   "outputs": [],
   "source": [
    "from collections import defaultdict\n",
    "from flask import Flask,request, make_response\n",
    "from flask_cors import CORS\n",
    "import pandas as pd\n",
    "import numpy as np\n",
    "import scipy\n",
    "from scipy.sparse.linalg import svds\n",
    "import matplotlib.pyplot as plt\n",
    "import time\n",
    "import json"
   ]
  },
  {
   "cell_type": "code",
   "execution_count": 2,
   "metadata": {
    "id": "YOckP_sYQcda"
   },
   "outputs": [],
   "source": [
    "Ratings = pd.read_csv('data/animelist.csv')\n",
    "Animes = pd.read_csv('data/anime.csv')"
   ]
  },
  {
   "cell_type": "code",
   "execution_count": 3,
   "metadata": {
    "id": "_F9FfyFSQl_5"
   },
   "outputs": [],
   "source": [
    "\n",
    "Animes=Animes[['Name','MAL_ID','Score','Type']]\n",
    "Animes = Animes.rename(columns={'MAL_ID': 'anime_id'})\n"
   ]
  },
  {
   "cell_type": "code",
   "execution_count": 4,
   "metadata": {
    "id": "xalsFDNyQp66"
   },
   "outputs": [],
   "source": [
    "Ratings= pd.merge(Ratings, Animes, on=\"anime_id\", how=\"inner\")\n",
    "Ratings = Ratings[Ratings['Type']=='TV']\n",
    "Ratings = Ratings[['user_id', 'Name','rating']]"
   ]
  },
  {
   "cell_type": "code",
   "execution_count": 5,
   "metadata": {
    "id": "XryjXIYhQ_gM"
   },
   "outputs": [],
   "source": [
    "counts = Ratings['user_id'].value_counts()\n",
    "Ratings = Ratings[Ratings['user_id'].isin(counts[counts >= 300].index)]"
   ]
  },
  {
   "cell_type": "code",
   "execution_count": 6,
   "metadata": {
    "colab": {
     "base_uri": "https://localhost:8080/",
     "height": 413
    },
    "id": "wvO1uOA5hIwa",
    "outputId": "a7149f69-06c7-4127-c11c-10c5c16824c0"
   },
   "outputs": [
    {
     "data": {
      "text/html": [
       "<div>\n",
       "<style scoped>\n",
       "    .dataframe tbody tr th:only-of-type {\n",
       "        vertical-align: middle;\n",
       "    }\n",
       "\n",
       "    .dataframe tbody tr th {\n",
       "        vertical-align: top;\n",
       "    }\n",
       "\n",
       "    .dataframe thead th {\n",
       "        text-align: right;\n",
       "    }\n",
       "</style>\n",
       "<table border=\"1\" class=\"dataframe\">\n",
       "  <thead>\n",
       "    <tr style=\"text-align: right;\">\n",
       "      <th>user_id</th>\n",
       "      <th>3</th>\n",
       "      <th>12</th>\n",
       "      <th>16</th>\n",
       "      <th>17</th>\n",
       "      <th>19</th>\n",
       "      <th>21</th>\n",
       "      <th>34</th>\n",
       "      <th>41</th>\n",
       "      <th>44</th>\n",
       "      <th>46</th>\n",
       "      <th>...</th>\n",
       "      <th>353357</th>\n",
       "      <th>353358</th>\n",
       "      <th>353365</th>\n",
       "      <th>353370</th>\n",
       "      <th>353381</th>\n",
       "      <th>353383</th>\n",
       "      <th>353385</th>\n",
       "      <th>353390</th>\n",
       "      <th>353395</th>\n",
       "      <th>353398</th>\n",
       "    </tr>\n",
       "    <tr>\n",
       "      <th>Name</th>\n",
       "      <th></th>\n",
       "      <th></th>\n",
       "      <th></th>\n",
       "      <th></th>\n",
       "      <th></th>\n",
       "      <th></th>\n",
       "      <th></th>\n",
       "      <th></th>\n",
       "      <th></th>\n",
       "      <th></th>\n",
       "      <th></th>\n",
       "      <th></th>\n",
       "      <th></th>\n",
       "      <th></th>\n",
       "      <th></th>\n",
       "      <th></th>\n",
       "      <th></th>\n",
       "      <th></th>\n",
       "      <th></th>\n",
       "      <th></th>\n",
       "      <th></th>\n",
       "    </tr>\n",
       "  </thead>\n",
       "  <tbody>\n",
       "    <tr>\n",
       "      <th>\"Eikou Naki Tensai-tachi\" Kara no Monogatari</th>\n",
       "      <td>0.0</td>\n",
       "      <td>0.0</td>\n",
       "      <td>0.0</td>\n",
       "      <td>0.0</td>\n",
       "      <td>0.0</td>\n",
       "      <td>0.0</td>\n",
       "      <td>0.0</td>\n",
       "      <td>0.0</td>\n",
       "      <td>0.0</td>\n",
       "      <td>0.0</td>\n",
       "      <td>...</td>\n",
       "      <td>0.0</td>\n",
       "      <td>0.0</td>\n",
       "      <td>0.0</td>\n",
       "      <td>0.0</td>\n",
       "      <td>0.0</td>\n",
       "      <td>0.0</td>\n",
       "      <td>0.0</td>\n",
       "      <td>0.0</td>\n",
       "      <td>0.0</td>\n",
       "      <td>0.0</td>\n",
       "    </tr>\n",
       "    <tr>\n",
       "      <th>.hack//Roots</th>\n",
       "      <td>0.0</td>\n",
       "      <td>10.0</td>\n",
       "      <td>0.0</td>\n",
       "      <td>0.0</td>\n",
       "      <td>0.0</td>\n",
       "      <td>0.0</td>\n",
       "      <td>0.0</td>\n",
       "      <td>0.0</td>\n",
       "      <td>0.0</td>\n",
       "      <td>0.0</td>\n",
       "      <td>...</td>\n",
       "      <td>0.0</td>\n",
       "      <td>0.0</td>\n",
       "      <td>0.0</td>\n",
       "      <td>0.0</td>\n",
       "      <td>0.0</td>\n",
       "      <td>0.0</td>\n",
       "      <td>7.0</td>\n",
       "      <td>0.0</td>\n",
       "      <td>0.0</td>\n",
       "      <td>0.0</td>\n",
       "    </tr>\n",
       "    <tr>\n",
       "      <th>.hack//Sign</th>\n",
       "      <td>0.0</td>\n",
       "      <td>10.0</td>\n",
       "      <td>0.0</td>\n",
       "      <td>0.0</td>\n",
       "      <td>0.0</td>\n",
       "      <td>5.0</td>\n",
       "      <td>0.0</td>\n",
       "      <td>0.0</td>\n",
       "      <td>0.0</td>\n",
       "      <td>0.0</td>\n",
       "      <td>...</td>\n",
       "      <td>0.0</td>\n",
       "      <td>0.0</td>\n",
       "      <td>0.0</td>\n",
       "      <td>0.0</td>\n",
       "      <td>0.0</td>\n",
       "      <td>0.0</td>\n",
       "      <td>9.0</td>\n",
       "      <td>0.0</td>\n",
       "      <td>0.0</td>\n",
       "      <td>0.0</td>\n",
       "    </tr>\n",
       "    <tr>\n",
       "      <th>.hack//Tasogare no Udewa Densetsu</th>\n",
       "      <td>0.0</td>\n",
       "      <td>0.0</td>\n",
       "      <td>0.0</td>\n",
       "      <td>0.0</td>\n",
       "      <td>0.0</td>\n",
       "      <td>0.0</td>\n",
       "      <td>0.0</td>\n",
       "      <td>0.0</td>\n",
       "      <td>0.0</td>\n",
       "      <td>0.0</td>\n",
       "      <td>...</td>\n",
       "      <td>0.0</td>\n",
       "      <td>0.0</td>\n",
       "      <td>0.0</td>\n",
       "      <td>0.0</td>\n",
       "      <td>0.0</td>\n",
       "      <td>0.0</td>\n",
       "      <td>6.0</td>\n",
       "      <td>0.0</td>\n",
       "      <td>7.0</td>\n",
       "      <td>0.0</td>\n",
       "    </tr>\n",
       "    <tr>\n",
       "      <th>0-sen Hayato</th>\n",
       "      <td>0.0</td>\n",
       "      <td>0.0</td>\n",
       "      <td>0.0</td>\n",
       "      <td>0.0</td>\n",
       "      <td>0.0</td>\n",
       "      <td>0.0</td>\n",
       "      <td>0.0</td>\n",
       "      <td>0.0</td>\n",
       "      <td>0.0</td>\n",
       "      <td>0.0</td>\n",
       "      <td>...</td>\n",
       "      <td>0.0</td>\n",
       "      <td>0.0</td>\n",
       "      <td>0.0</td>\n",
       "      <td>0.0</td>\n",
       "      <td>0.0</td>\n",
       "      <td>0.0</td>\n",
       "      <td>0.0</td>\n",
       "      <td>0.0</td>\n",
       "      <td>0.0</td>\n",
       "      <td>0.0</td>\n",
       "    </tr>\n",
       "  </tbody>\n",
       "</table>\n",
       "<p>5 rows × 87472 columns</p>\n",
       "</div>"
      ],
      "text/plain": [
       "user_id                                       3       12      16      17      \\\n",
       "Name                                                                           \n",
       "\"Eikou Naki Tensai-tachi\" Kara no Monogatari     0.0     0.0     0.0     0.0   \n",
       ".hack//Roots                                     0.0    10.0     0.0     0.0   \n",
       ".hack//Sign                                      0.0    10.0     0.0     0.0   \n",
       ".hack//Tasogare no Udewa Densetsu                0.0     0.0     0.0     0.0   \n",
       "0-sen Hayato                                     0.0     0.0     0.0     0.0   \n",
       "\n",
       "user_id                                       19      21      34      41      \\\n",
       "Name                                                                           \n",
       "\"Eikou Naki Tensai-tachi\" Kara no Monogatari     0.0     0.0     0.0     0.0   \n",
       ".hack//Roots                                     0.0     0.0     0.0     0.0   \n",
       ".hack//Sign                                      0.0     5.0     0.0     0.0   \n",
       ".hack//Tasogare no Udewa Densetsu                0.0     0.0     0.0     0.0   \n",
       "0-sen Hayato                                     0.0     0.0     0.0     0.0   \n",
       "\n",
       "user_id                                       44      46      ...  353357  \\\n",
       "Name                                                          ...           \n",
       "\"Eikou Naki Tensai-tachi\" Kara no Monogatari     0.0     0.0  ...     0.0   \n",
       ".hack//Roots                                     0.0     0.0  ...     0.0   \n",
       ".hack//Sign                                      0.0     0.0  ...     0.0   \n",
       ".hack//Tasogare no Udewa Densetsu                0.0     0.0  ...     0.0   \n",
       "0-sen Hayato                                     0.0     0.0  ...     0.0   \n",
       "\n",
       "user_id                                       353358  353365  353370  353381  \\\n",
       "Name                                                                           \n",
       "\"Eikou Naki Tensai-tachi\" Kara no Monogatari     0.0     0.0     0.0     0.0   \n",
       ".hack//Roots                                     0.0     0.0     0.0     0.0   \n",
       ".hack//Sign                                      0.0     0.0     0.0     0.0   \n",
       ".hack//Tasogare no Udewa Densetsu                0.0     0.0     0.0     0.0   \n",
       "0-sen Hayato                                     0.0     0.0     0.0     0.0   \n",
       "\n",
       "user_id                                       353383  353385  353390  353395  \\\n",
       "Name                                                                           \n",
       "\"Eikou Naki Tensai-tachi\" Kara no Monogatari     0.0     0.0     0.0     0.0   \n",
       ".hack//Roots                                     0.0     7.0     0.0     0.0   \n",
       ".hack//Sign                                      0.0     9.0     0.0     0.0   \n",
       ".hack//Tasogare no Udewa Densetsu                0.0     6.0     0.0     7.0   \n",
       "0-sen Hayato                                     0.0     0.0     0.0     0.0   \n",
       "\n",
       "user_id                                       353398  \n",
       "Name                                                  \n",
       "\"Eikou Naki Tensai-tachi\" Kara no Monogatari     0.0  \n",
       ".hack//Roots                                     0.0  \n",
       ".hack//Sign                                      0.0  \n",
       ".hack//Tasogare no Udewa Densetsu                0.0  \n",
       "0-sen Hayato                                     0.0  \n",
       "\n",
       "[5 rows x 87472 columns]"
      ]
     },
     "execution_count": 6,
     "metadata": {},
     "output_type": "execute_result"
    }
   ],
   "source": [
    "similar_animes_pivot=Ratings.pivot_table(index='Name',columns='user_id',values='rating').fillna(0)\n",
    "similar_animes_pivot.head()"
   ]
  },
  {
   "cell_type": "code",
   "execution_count": 9,
   "metadata": {},
   "outputs": [],
   "source": [
    "def get_all_animes():\n",
    "    return (Ratings.loc[:, [\"Name\"]].drop_duplicates().to_json(orient=\"records\"))"
   ]
  },
  {
   "cell_type": "code",
   "execution_count": 10,
   "metadata": {
    "colab": {
     "base_uri": "https://localhost:8080/"
    },
    "id": "jSQRhXsjjBoN",
    "outputId": "ec3dceb4-3d49-4e06-b837-60e2a0876725"
   },
   "outputs": [
    {
     "data": {
      "text/plain": [
       "NearestNeighbors(algorithm='brute', metric='cosine')"
      ]
     },
     "execution_count": 10,
     "metadata": {},
     "output_type": "execute_result"
    }
   ],
   "source": [
    "from scipy.sparse import csr_matrix\n",
    "#Creating a sparse matrix\n",
    "anime_matrix = csr_matrix(similar_animes_pivot.values)\n",
    "\n",
    "\n",
    "from sklearn.neighbors import NearestNeighbors\n",
    "\n",
    "#Fitting the model\n",
    "anime_knn = NearestNeighbors(metric = 'cosine', algorithm = 'brute')\n",
    "anime_knn.fit(anime_matrix)\n",
    "\n",
    "\n"
   ]
  },
  {
   "cell_type": "code",
   "execution_count": 11,
   "metadata": {
    "id": "tl9JFn8HjYck"
   },
   "outputs": [],
   "source": [
    "def recommend(anime_Name):\n",
    "  distances, indices = anime_knn.kneighbors(similar_animes_pivot.loc[anime_Name,:].values.reshape(1, -1), n_neighbors = 6)\n",
    "  for i in range(0, len(distances.flatten())):\n",
    "      if i == 0:\n",
    "          print('Recommendations for {0}:\\n'.format(anime_Name))\n",
    "      else:\n",
    "          print('{0}: {1}, with distance of {2}:'.format(i, similar_animes_pivot.index[indices.flatten()[i]], distances.flatten()[i]))\n"
   ]
  },
  {
   "cell_type": "code",
   "execution_count": 12,
   "metadata": {
    "id": "gx7k7LoOo9Fn"
   },
   "outputs": [],
   "source": [
    "import pickle as pkl\n",
    "\n",
    "pkl.dump(anime_knn,open(\"data/anime.pkl\",'wb'),pkl.HIGHEST_PROTOCOL)\n",
    "pkl.dump(similar_animes_pivot,open(\"data/animes_pivot.pkl\",'wb'),pkl.HIGHEST_PROTOCOL)\n"
   ]
  },
  {
   "cell_type": "code",
   "execution_count": 13,
   "metadata": {
    "id": "8QB7r4KQfoaR"
   },
   "outputs": [],
   "source": [
    "from operator import itemgetter\n",
    "from heapq import nsmallest\n",
    "\n",
    "def generate_recommendations(anime_dict):\n",
    "  recommend_dict = {}\n",
    "  for anime in anime_dict:\n",
    "    distances, indices = anime_knn.kneighbors(similar_animes_pivot.loc[anime,:].values.reshape(1, -1), n_neighbors = 10)\n",
    "\n",
    "    for i in range(0, len(distances.flatten())):\n",
    "        if i == 0:\n",
    "          continue\n",
    "        else:\n",
    "            dist=distances.flatten()[i]/anime_dict[anime]\n",
    "            id=similar_animes_pivot.index[indices.flatten()[i]]\n",
    "            if not(id in anime_dict.keys() or id in recommend_dict.keys()):\n",
    "              recommend_dict[id]=dist\n",
    "\n",
    "  #res = dict(sorted(recommend_dict.items(), key = itemgetter(1))[:10])\n",
    "  res = nsmallest(10, recommend_dict, key = recommend_dict.get)\n",
    "  return json.dumps(res)\n",
    "#find n smallest dists in reccomend_dict and return          "
   ]
  },
  {
   "cell_type": "code",
   "execution_count": null,
   "metadata": {
    "colab": {
     "base_uri": "https://localhost:8080/",
     "height": 286
    },
    "id": "fVHemj41cf3k",
    "outputId": "f787e153-beaa-4764-c28c-514984d15c58"
   },
   "outputs": [
    {
     "name": "stdout",
     "output_type": "stream",
     "text": [
      " * Serving Flask app \"__main__\" (lazy loading)\n",
      " * Environment: production\n",
      "\u001b[31m   WARNING: This is a development server. Do not use it in a production deployment.\u001b[0m\n",
      "\u001b[2m   Use a production WSGI server instead.\u001b[0m\n",
      " * Debug mode: on\n"
     ]
    },
    {
     "name": "stderr",
     "output_type": "stream",
     "text": [
      " * Running on http://127.0.0.1:5555/ (Press CTRL+C to quit)\n",
      "127.0.0.1 - - [15/Jul/2022 10:45:34] \"\u001b[35m\u001b[1mPOST /api/recommendations HTTP/1.1\u001b[0m\" 500 -\n",
      "Traceback (most recent call last):\n",
      "  File \"/Users/nikitaagrawal/opt/anaconda3/lib/python3.8/site-packages/flask/app.py\", line 2464, in __call__\n",
      "    return self.wsgi_app(environ, start_response)\n",
      "  File \"/Users/nikitaagrawal/opt/anaconda3/lib/python3.8/site-packages/flask/app.py\", line 2450, in wsgi_app\n",
      "    response = self.handle_exception(e)\n",
      "  File \"/Users/nikitaagrawal/opt/anaconda3/lib/python3.8/site-packages/flask_cors/extension.py\", line 165, in wrapped_function\n",
      "    return cors_after_request(app.make_response(f(*args, **kwargs)))\n",
      "  File \"/Users/nikitaagrawal/opt/anaconda3/lib/python3.8/site-packages/flask/app.py\", line 1867, in handle_exception\n",
      "    reraise(exc_type, exc_value, tb)\n",
      "  File \"/Users/nikitaagrawal/opt/anaconda3/lib/python3.8/site-packages/flask/_compat.py\", line 39, in reraise\n",
      "    raise value\n",
      "  File \"/Users/nikitaagrawal/opt/anaconda3/lib/python3.8/site-packages/flask/app.py\", line 2447, in wsgi_app\n",
      "    response = self.full_dispatch_request()\n",
      "  File \"/Users/nikitaagrawal/opt/anaconda3/lib/python3.8/site-packages/flask/app.py\", line 1952, in full_dispatch_request\n",
      "    rv = self.handle_user_exception(e)\n",
      "  File \"/Users/nikitaagrawal/opt/anaconda3/lib/python3.8/site-packages/flask_cors/extension.py\", line 165, in wrapped_function\n",
      "    return cors_after_request(app.make_response(f(*args, **kwargs)))\n",
      "  File \"/Users/nikitaagrawal/opt/anaconda3/lib/python3.8/site-packages/flask/app.py\", line 1821, in handle_user_exception\n",
      "    reraise(exc_type, exc_value, tb)\n",
      "  File \"/Users/nikitaagrawal/opt/anaconda3/lib/python3.8/site-packages/flask/_compat.py\", line 39, in reraise\n",
      "    raise value\n",
      "  File \"/Users/nikitaagrawal/opt/anaconda3/lib/python3.8/site-packages/flask/app.py\", line 1950, in full_dispatch_request\n",
      "    rv = self.dispatch_request()\n",
      "  File \"/Users/nikitaagrawal/opt/anaconda3/lib/python3.8/site-packages/flask/app.py\", line 1936, in dispatch_request\n",
      "    return self.view_functions[rule.endpoint](**req.view_args)\n",
      "  File \"<ipython-input-14-64785a3c853b>\", line 16, in recommendations\n",
      "    \n",
      "  File \"<ipython-input-13-4be06ee32d6e>\", line 7, in generate_recommendations\n",
      "    \n",
      "  File \"/Users/nikitaagrawal/opt/anaconda3/lib/python3.8/site-packages/pandas/core/indexing.py\", line 873, in __getitem__\n",
      "    return self._getitem_tuple(key)\n",
      "  File \"/Users/nikitaagrawal/opt/anaconda3/lib/python3.8/site-packages/pandas/core/indexing.py\", line 1055, in _getitem_tuple\n",
      "    return self._getitem_tuple_same_dim(tup)\n",
      "  File \"/Users/nikitaagrawal/opt/anaconda3/lib/python3.8/site-packages/pandas/core/indexing.py\", line 750, in _getitem_tuple_same_dim\n",
      "    retval = getattr(retval, self.name)._getitem_axis(key, axis=i)\n",
      "  File \"/Users/nikitaagrawal/opt/anaconda3/lib/python3.8/site-packages/pandas/core/indexing.py\", line 1099, in _getitem_axis\n",
      "    return self._getitem_iterable(key, axis=axis)\n",
      "  File \"/Users/nikitaagrawal/opt/anaconda3/lib/python3.8/site-packages/pandas/core/indexing.py\", line 1037, in _getitem_iterable\n",
      "    keyarr, indexer = self._get_listlike_indexer(key, axis, raise_missing=False)\n",
      "  File \"/Users/nikitaagrawal/opt/anaconda3/lib/python3.8/site-packages/pandas/core/indexing.py\", line 1254, in _get_listlike_indexer\n",
      "    self._validate_read_indexer(keyarr, indexer, axis, raise_missing=raise_missing)\n",
      "  File \"/Users/nikitaagrawal/opt/anaconda3/lib/python3.8/site-packages/pandas/core/indexing.py\", line 1298, in _validate_read_indexer\n",
      "    raise KeyError(f\"None of [{key}] are in the [{axis_name}]\")\n",
      "KeyError: \"None of [Index(['animeName', 'rating'], dtype='object', name='Name')] are in the [index]\"\n",
      "127.0.0.1 - - [15/Jul/2022 10:45:34] \"\u001b[37mGET /api/recommendations?__debugger__=yes&cmd=resource&f=style.css HTTP/1.1\u001b[0m\" 200 -\n",
      "127.0.0.1 - - [15/Jul/2022 10:45:34] \"\u001b[37mGET /api/recommendations?__debugger__=yes&cmd=resource&f=debugger.js HTTP/1.1\u001b[0m\" 200 -\n",
      "127.0.0.1 - - [15/Jul/2022 10:45:34] \"\u001b[37mGET /api/recommendations?__debugger__=yes&cmd=resource&f=jquery.js HTTP/1.1\u001b[0m\" 200 -\n",
      "127.0.0.1 - - [15/Jul/2022 10:45:34] \"\u001b[37mGET /api/recommendations?__debugger__=yes&cmd=resource&f=ubuntu.ttf HTTP/1.1\u001b[0m\" 200 -\n",
      "127.0.0.1 - - [15/Jul/2022 10:45:34] \"\u001b[37mGET /api/recommendations?__debugger__=yes&cmd=resource&f=console.png HTTP/1.1\u001b[0m\" 200 -\n",
      "127.0.0.1 - - [15/Jul/2022 10:45:52] \"\u001b[35m\u001b[1mPOST /api/recommendations HTTP/1.1\u001b[0m\" 500 -\n",
      "Traceback (most recent call last):\n",
      "  File \"/Users/nikitaagrawal/opt/anaconda3/lib/python3.8/site-packages/flask/app.py\", line 2464, in __call__\n",
      "    return self.wsgi_app(environ, start_response)\n",
      "  File \"/Users/nikitaagrawal/opt/anaconda3/lib/python3.8/site-packages/flask/app.py\", line 2450, in wsgi_app\n",
      "    response = self.handle_exception(e)\n",
      "  File \"/Users/nikitaagrawal/opt/anaconda3/lib/python3.8/site-packages/flask_cors/extension.py\", line 165, in wrapped_function\n",
      "    return cors_after_request(app.make_response(f(*args, **kwargs)))\n",
      "  File \"/Users/nikitaagrawal/opt/anaconda3/lib/python3.8/site-packages/flask/app.py\", line 1867, in handle_exception\n",
      "    reraise(exc_type, exc_value, tb)\n",
      "  File \"/Users/nikitaagrawal/opt/anaconda3/lib/python3.8/site-packages/flask/_compat.py\", line 39, in reraise\n",
      "    raise value\n",
      "  File \"/Users/nikitaagrawal/opt/anaconda3/lib/python3.8/site-packages/flask/app.py\", line 2447, in wsgi_app\n",
      "    response = self.full_dispatch_request()\n",
      "  File \"/Users/nikitaagrawal/opt/anaconda3/lib/python3.8/site-packages/flask/app.py\", line 1952, in full_dispatch_request\n",
      "    rv = self.handle_user_exception(e)\n",
      "  File \"/Users/nikitaagrawal/opt/anaconda3/lib/python3.8/site-packages/flask_cors/extension.py\", line 165, in wrapped_function\n",
      "    return cors_after_request(app.make_response(f(*args, **kwargs)))\n",
      "  File \"/Users/nikitaagrawal/opt/anaconda3/lib/python3.8/site-packages/flask/app.py\", line 1821, in handle_user_exception\n",
      "    reraise(exc_type, exc_value, tb)\n",
      "  File \"/Users/nikitaagrawal/opt/anaconda3/lib/python3.8/site-packages/flask/_compat.py\", line 39, in reraise\n",
      "    raise value\n",
      "  File \"/Users/nikitaagrawal/opt/anaconda3/lib/python3.8/site-packages/flask/app.py\", line 1950, in full_dispatch_request\n",
      "    rv = self.dispatch_request()\n",
      "  File \"/Users/nikitaagrawal/opt/anaconda3/lib/python3.8/site-packages/flask/app.py\", line 1936, in dispatch_request\n",
      "    return self.view_functions[rule.endpoint](**req.view_args)\n",
      "  File \"<ipython-input-14-64785a3c853b>\", line 16, in recommendations\n",
      "    \n",
      "  File \"<ipython-input-13-4be06ee32d6e>\", line 7, in generate_recommendations\n",
      "    \n",
      "  File \"/Users/nikitaagrawal/opt/anaconda3/lib/python3.8/site-packages/pandas/core/indexing.py\", line 873, in __getitem__\n",
      "    return self._getitem_tuple(key)\n",
      "  File \"/Users/nikitaagrawal/opt/anaconda3/lib/python3.8/site-packages/pandas/core/indexing.py\", line 1055, in _getitem_tuple\n",
      "    return self._getitem_tuple_same_dim(tup)\n",
      "  File \"/Users/nikitaagrawal/opt/anaconda3/lib/python3.8/site-packages/pandas/core/indexing.py\", line 750, in _getitem_tuple_same_dim\n",
      "    retval = getattr(retval, self.name)._getitem_axis(key, axis=i)\n",
      "  File \"/Users/nikitaagrawal/opt/anaconda3/lib/python3.8/site-packages/pandas/core/indexing.py\", line 1099, in _getitem_axis\n",
      "    return self._getitem_iterable(key, axis=axis)\n",
      "  File \"/Users/nikitaagrawal/opt/anaconda3/lib/python3.8/site-packages/pandas/core/indexing.py\", line 1037, in _getitem_iterable\n",
      "    keyarr, indexer = self._get_listlike_indexer(key, axis, raise_missing=False)\n",
      "  File \"/Users/nikitaagrawal/opt/anaconda3/lib/python3.8/site-packages/pandas/core/indexing.py\", line 1254, in _get_listlike_indexer\n",
      "    self._validate_read_indexer(keyarr, indexer, axis, raise_missing=raise_missing)\n",
      "  File \"/Users/nikitaagrawal/opt/anaconda3/lib/python3.8/site-packages/pandas/core/indexing.py\", line 1298, in _validate_read_indexer\n",
      "    raise KeyError(f\"None of [{key}] are in the [{axis_name}]\")\n",
      "KeyError: \"None of [Index(['animeName', 'rating'], dtype='object', name='Name')] are in the [index]\"\n",
      "127.0.0.1 - - [15/Jul/2022 10:45:52] \"\u001b[37mGET /api/recommendations?__debugger__=yes&cmd=resource&f=style.css HTTP/1.1\u001b[0m\" 200 -\n",
      "127.0.0.1 - - [15/Jul/2022 10:45:52] \"\u001b[37mGET /api/recommendations?__debugger__=yes&cmd=resource&f=debugger.js HTTP/1.1\u001b[0m\" 200 -\n"
     ]
    },
    {
     "name": "stderr",
     "output_type": "stream",
     "text": [
      "127.0.0.1 - - [15/Jul/2022 10:45:52] \"\u001b[37mGET /api/recommendations?__debugger__=yes&cmd=resource&f=jquery.js HTTP/1.1\u001b[0m\" 200 -\n",
      "127.0.0.1 - - [15/Jul/2022 10:45:53] \"\u001b[37mGET /api/recommendations?__debugger__=yes&cmd=resource&f=console.png HTTP/1.1\u001b[0m\" 200 -\n",
      "127.0.0.1 - - [15/Jul/2022 10:45:53] \"\u001b[37mGET /api/recommendations?__debugger__=yes&cmd=resource&f=ubuntu.ttf HTTP/1.1\u001b[0m\" 200 -\n"
     ]
    }
   ],
   "source": [
    "\n",
    "app = Flask(__name__)\n",
    "CORS(app)\n",
    "\n",
    "@app.route('/api/animes', methods=['GET'])\n",
    "def animes():\n",
    "    animeList = get_all_animes()\n",
    "    return animeList\n",
    "\n",
    "\n",
    "@app.route('/api/recommendations', methods=['POST'])\n",
    "def recommendations():\n",
    "    data = request.get_json()\n",
    "    for currentAnime in data:\n",
    "        key = currentAnime.get('animeName')\n",
    "        \n",
    "    recommendations = generate_recommendations(data)\n",
    "    return make_response(recommendations)\n",
    "\n",
    "if __name__ == \"__main__\":\n",
    "    app.run(port=5555, debug=True, use_reloader=False)\n",
    "\n"
   ]
  },
  {
   "cell_type": "code",
   "execution_count": null,
   "metadata": {
    "id": "bq-f64bnbr-w"
   },
   "outputs": [],
   "source": [
    "generate_recommendations({'.hack//Tasogare no Udewa Densetsu':10,'Fullmetal Alchemist':10,'.hack//Roots':9,'.hack//Sign':8,'Chrno Crusade':7,'Chobits':8})"
   ]
  },
  {
   "cell_type": "code",
   "execution_count": null,
   "metadata": {},
   "outputs": [],
   "source": []
  }
 ],
 "metadata": {
  "colab": {
   "collapsed_sections": [],
   "machine_shape": "hm",
   "name": "JoinRecommendation.ipynb",
   "provenance": []
  },
  "gpuClass": "standard",
  "kernelspec": {
   "display_name": "Python 3",
   "language": "python",
   "name": "python3"
  },
  "language_info": {
   "codemirror_mode": {
    "name": "ipython",
    "version": 3
   },
   "file_extension": ".py",
   "mimetype": "text/x-python",
   "name": "python",
   "nbconvert_exporter": "python",
   "pygments_lexer": "ipython3",
   "version": "3.8.5"
  }
 },
 "nbformat": 4,
 "nbformat_minor": 1
}
